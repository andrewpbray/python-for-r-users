{
 "cells": [
  {
   "cell_type": "markdown",
   "metadata": {},
   "source": [
    "# Agenda\n",
    "\n",
    "1.  Plotting Ecosystem in Python\n",
    "\n",
    "2.  Line plots in Matplotlib and Seaborn\n",
    "\n",
    "3.  Seaborn Overview"
   ]
  },
  {
   "cell_type": "code",
   "execution_count": null,
   "metadata": {},
   "outputs": [],
   "source": [
    "import numpy as np\n",
    "import pandas as pd\n",
    "import matplotlib.pyplot as plt\n",
    "%matplotlib inline\n",
    "import seaborn as sns"
   ]
  },
  {
   "cell_type": "markdown",
   "metadata": {},
   "source": [
    "-----"
   ]
  },
  {
   "cell_type": "markdown",
   "metadata": {},
   "source": [
    "## Plotting Ecosystem in Python\n",
    "\n",
    "We'll be using the visualization functionality of three packages:\n",
    "\n",
    "- `matplotlib`: The workhorse engine of static plots in Python, based on Matlab's approach to visualization.\n",
    "\n",
    "- `pandas`: Though not it's focus, the package includes wrappers for `matplotlib`: just call `.plot()` method on a data frame and ... see what you get. Good for quick and dirty visualization.\n",
    "\n",
    "- `seaborn`: A higher-level wrapper for `matplotlib`.\n",
    "\n",
    "    - More polished default aesthetics.\n",
    "    - Uses `ggplot2` style non-standard evaluation.\n",
    "    - Prefers tall tidy data frames (also like `ggplot2`)\n",
    "\n",
    "When working with these packages, it's good to keep in mind the two different interfaces that they provide.\n",
    "\n",
    "### Active Interface\n",
    "\n",
    "Consider the following code."
   ]
  },
  {
   "cell_type": "code",
   "execution_count": null,
   "metadata": {},
   "outputs": [],
   "source": [
    "plt.figure()  # create a plot figure\n",
    "\n",
    "# create the first of two panels\n",
    "plt.subplot(2, 1, 1) # (rows, columns, panel number)\n",
    "plt.plot(np.random.normal(scale = 1, size = 100));\n",
    "\n",
    "# create the second panel\n",
    "plt.subplot(2, 1, 2)\n",
    "plt.plot(np.random.normal(scale = 2, size = 100));"
   ]
  },
  {
   "cell_type": "markdown",
   "metadata": {},
   "source": [
    "In this interface, `matplotlib` is keeping track of which plot (or subplot) is the active one. Any plotting commands called will update that plot. This is similar to base Rs approach. This interface is brittle and error-prone. Better to use...\n",
    "\n",
    "### Object-oriented Interface"
   ]
  },
  {
   "cell_type": "code",
   "execution_count": null,
   "metadata": {
    "scrolled": true
   },
   "outputs": [],
   "source": [
    "# First create a grid of plots\n",
    "# ax will be an array of two Axes objects\n",
    "fig, ax = plt.subplots(2)\n",
    "\n",
    "# Call plot() method on the appropriate object\n",
    "ax[0].plot(np.random.normal(scale = 1, size = 100));\n",
    "ax[1].plot(np.random.normal(scale = 2, size = 100));"
   ]
  },
  {
   "cell_type": "markdown",
   "metadata": {},
   "source": [
    "Here, we're calling the `.plot()` method on a particulate `ax` object (a subplot), so we can be explicit in what we're modifying. `plt.plot()` , by contrast, will modify whatever the active plot is.\n",
    "\n",
    "## Simple line plot\n",
    "\n",
    "### First in `matplotlib`\n",
    "\n",
    "When building a plot, most functions will work either on the *figure* or the *axes*.\n",
    "\n",
    "In the plot below, we first create each object separately. To plot a function along the axis, we call the `.plot()` method on that ax (essentially the panel inside the \"canvas\" of the figure)."
   ]
  },
  {
   "cell_type": "code",
   "execution_count": null,
   "metadata": {},
   "outputs": [],
   "source": [
    "fig = plt.figure()\n",
    "ax = plt.axes()\n",
    "x = np.linspace(0, 10, 1000)\n",
    "ax.plot(x, np.sin(x));\n",
    "# plt.plot(x, np.sin(x)) # \"active\" interface approach"
   ]
  },
  {
   "cell_type": "markdown",
   "metadata": {},
   "source": [
    "To plot multiple lines on the same axes, you can call the `.plot()` method again with a different function."
   ]
  },
  {
   "cell_type": "code",
   "execution_count": null,
   "metadata": {},
   "outputs": [],
   "source": [
    "fig = plt.figure()\n",
    "ax = plt.axes()\n",
    "x = np.linspace(0, 10, 1000)\n",
    "ax.plot(x, np.sin(x));\n",
    "ax.plot(x, np.cos(x));"
   ]
  },
  {
   "cell_type": "markdown",
   "metadata": {},
   "source": [
    "#### Fine tuning the aesthetics\n",
    "\n",
    "Several aesthetic preferences can be passed as arguments to `.plot()` including `color` and `linetype`. Test out each of the different approaches to calling `.plot()` to see how the color and linetype responds."
   ]
  },
  {
   "cell_type": "code",
   "execution_count": null,
   "metadata": {},
   "outputs": [],
   "source": [
    "fig = plt.figure()\n",
    "ax = plt.axes()\n",
    "x = np.linspace(0, 10, 1000)\n",
    "ax.plot(x, np.sin(x), color = \"g\", linestyle = \"dashed\");\n",
    "#ax.plot(x, np.sin(x), color = \"blue\", linestyle = \"-.\");\n",
    "#ax.plot(x, np.sin(x), \"-.g\");"
   ]
  },
  {
   "cell_type": "markdown",
   "metadata": {},
   "source": [
    "Other aesthetics are specified through additional method or function calls, one for each edit. This can be done either using the active plot or OOP approach. A few common functions are found below. The OOP approach often, but not always, prefaces the method with `set_`.\n",
    "\n",
    "**OOP**\n",
    "\n",
    "-   `ax.set_xlabel()`\n",
    "-   `ax.set_ylabel()`\n",
    "-   `ax.set_xlim()`\n",
    "-   `ax.set_ylim()`\n",
    "-   `ax.set_title()`\n",
    "\n",
    "**Active Plot**\n",
    "\n",
    "-   `plt.xlabel()`\n",
    "-   `plt.ylabel()`\n",
    "-   `plt.xlim()`\n",
    "-   `plt.ylim()`\n",
    "-   `plt.title()`\n",
    "\n",
    "### Example 1: Cumulative ballot returns\n",
    "\n",
    "<img src=\"https://github.com/andrewpbray/python-for-r-users/blob/master/labs/figs/or-plot-1.png?raw=true\" width=\"400\"/>\n",
    "\n",
    "Let's recreate this plot from the Reshaping Votes lab. First we prepare the data,"
   ]
  },
  {
   "cell_type": "code",
   "execution_count": null,
   "metadata": {},
   "outputs": [],
   "source": [
    "df = pd.read_csv(\"https://raw.githubusercontent.com/andrewpbray/python-for-r-users/master/data/or_df_1.csv\")\n",
    "df = df.loc[:35, :]\n",
    "df = df.rename(columns = {\"Statewide Ballot Returns by\": \"County\"})\n",
    "df2 = df.melt(id_vars = \"County\",\n",
    "        value_vars = ['Oct 16', 'Oct 19', 'Oct 20', 'Oct 21', 'Oct 22', 'Oct 23',\n",
    "       'Oct 26', 'Oct 27', 'Oct 28', 'Oct 29', 'Oct 30', 'Nov 2', 'Nov 3'],\n",
    "        var_name = \"Date\",\n",
    "        value_name = \"Count\")\n",
    "df2 = df2.replace(',','', regex = True)\n",
    "df2[\"Count\"] = pd.to_numeric(df2[\"Count\"])\n",
    "df2[\"Date\"]  = pd.to_datetime(df2[\"Date\"] + \" 2020\", format = \"%b %d %Y\")\n",
    "df2[\"Cumulative count\"] = df2[[\"Count\", \"County\"]].groupby(\"County\").cumsum()\n",
    "mult = df2[df2[\"County\"] == \"Multnomah\"]\n",
    "des = df2[df2[\"County\"] == \"Deschutes\"]"
   ]
  },
  {
   "cell_type": "markdown",
   "metadata": {},
   "source": [
    "and then construct the plot.\n",
    "\n",
    "#### OOP approach"
   ]
  },
  {
   "cell_type": "code",
   "execution_count": null,
   "metadata": {},
   "outputs": [],
   "source": [
    "fig, axes = plt.subplots(1, 2)\n",
    "axes[0].tick_params(\"x\", labelrotation = 90)\n",
    "axes[0].plot(\"Date\", \"Cumulative count\", data = mult); # alternate format (ggploty!)\n",
    "axes[1].tick_params(\"x\", labelrotation = 90)\n",
    "axes[1].plot(des[\"Date\"], des[\"Cumulative count\"]);"
   ]
  },
  {
   "cell_type": "markdown",
   "metadata": {},
   "source": [
    "Note that the first plot was constructed by passing the strings of the variable names and then the data frame separately. This is called *non-standard evaluation* and is what is used extensively in the R tidyverse and in `seaborn`.\n",
    "\n",
    "We still have some ugliness there:\n",
    "\n",
    "-   Date are cut off at bottom\n",
    "-   No labels on axes or figure\n",
    "\n",
    "Let's see if we can fix it."
   ]
  },
  {
   "cell_type": "code",
   "execution_count": null,
   "metadata": {},
   "outputs": [],
   "source": [
    "fig, axes = plt.subplots(1, 2)\n",
    "axes[0].tick_params(\"x\", labelrotation = 90)\n",
    "axes[0].plot(\"Date\", \"Cumulative count\", data = mult); # alternate format (ggploty!)\n",
    "axes[1].tick_params(\"x\", labelrotation = 90)\n",
    "axes[1].plot(des[\"Date\"], des[\"Cumulative count\"]);\n",
    "plt.subplots_adjust(bottom = .2, wspace = .3);\n",
    "axes[0].set_xlabel(\"Date\")\n",
    "axes[1].set_xlabel(\"Date\")\n",
    "axes[0].set_title(\"Multnomah County\")\n",
    "axes[1].set_title(\"Deschutes County\")\n",
    "fig.suptitle(\"Cumulative Ballot Returns\");"
   ]
  },
  {
   "cell_type": "markdown",
   "metadata": {},
   "source": [
    "It's still not perfect - it'd be nice to get those date labels looking better - but it'll do for now. If you're interested in how to tinker with the way date labels are printed, see the docs on [date tick labels](https://matplotlib.org/3.1.1/gallery/text_labels_and_annotations/date.html).\n",
    "\n",
    "#### Active figure approach"
   ]
  },
  {
   "cell_type": "code",
   "execution_count": null,
   "metadata": {},
   "outputs": [],
   "source": [
    "plt.figure()\n",
    "plt.subplot(1, 2, 1)\n",
    "plt.plot(\"Date\", \"Cumulative count\", data = mult);\n",
    "plt.tick_params(\"x\", labelrotation = 90)\n",
    "plt.xlabel(\"Date\")\n",
    "plt.title(\"Multnomah County\")\n",
    "plt.subplot(1, 2, 2)\n",
    "plt.plot(\"Date\", \"Cumulative count\", data = des);\n",
    "plt.tick_params(\"x\", labelrotation = 90)\n",
    "plt.xlabel(\"Date\")\n",
    "plt.title(\"Deschutes County\")\n",
    "plt.subplots_adjust(bottom = .2, wspace = .3)\n",
    "fig.suptitle(\"Cumulative Ballot Returns\");"
   ]
  },
  {
   "cell_type": "markdown",
   "metadata": {},
   "source": [
    "### Second, in `seaborn`\n",
    "\n",
    "Seaborn adds two useful things to the mix:\n",
    "\n",
    "1.  More fully featured plot functions.\n",
    "2.  More polished aesthetics\n",
    "\n",
    "We can use `sns.lineplot()` to recreate the line plot for just Multnomah County (active figure interface),"
   ]
  },
  {
   "cell_type": "code",
   "execution_count": null,
   "metadata": {},
   "outputs": [],
   "source": [
    "sns.lineplot(data = mult, x = \"Date\", y = \"Cumulative count\")\n",
    "plt.tick_params(\"x\", labelrotation = 90)\n",
    "plt.title(\"Multnomah County\")\n",
    "plt.subplots_adjust(bottom = .3)"
   ]
  },
  {
   "cell_type": "markdown",
   "metadata": {},
   "source": [
    "and we can also use the OOP interface:"
   ]
  },
  {
   "cell_type": "code",
   "execution_count": null,
   "metadata": {},
   "outputs": [],
   "source": [
    "fig = plt.figure()\n",
    "ax = sns.lineplot(data = mult, x = \"Date\", y = \"Cumulative count\")\n",
    "ax.tick_params(\"x\", labelrotation = 90)\n",
    "ax.set_title(\"Multnomah County\")\n",
    "fig.subplots_adjust(bottom = .3)"
   ]
  },
  {
   "cell_type": "markdown",
   "metadata": {},
   "source": [
    "Note that both forms use non-standard evaluation, where you pass the name of the data frame, then refer to the variables simply as strings.\n",
    "\n",
    "We can plot both counties much more elegantly and efficiently using faceting."
   ]
  },
  {
   "cell_type": "code",
   "execution_count": null,
   "metadata": {},
   "outputs": [],
   "source": [
    "mult_des = df2[df2[\"County\"].isin([\"Multnomah\", \"Deschutes\"])]\n",
    "g = sns.FacetGrid(data = mult_des, col = \"County\", margin_titles = True)\n",
    "g.map(sns.lineplot, \"Date\", \"Cumulative count\");"
   ]
  },
  {
   "cell_type": "markdown",
   "metadata": {},
   "source": [
    "This is a *big* improvement over the way that we made this plot in `matplotlib`. That code involved splitting out data set out into two separate data sets. This allows us to keep them well-organized in a single data set.\n",
    "\n",
    "We can get the same thing by using a higher-level wrapper function called `.relplot()` (relational plot). We'll also use functions very similar to the ones we used in `matplotlib` to fine tune the aesthetics (label rotation, spacing, and a title)."
   ]
  },
  {
   "cell_type": "code",
   "execution_count": null,
   "metadata": {
    "scrolled": true
   },
   "outputs": [],
   "source": [
    "g = sns.relplot(data = mult_des, \n",
    "              x = \"Date\", \n",
    "              y = \"Cumulative count\",\n",
    "              col = \"County\",\n",
    "              kind = \"line\")\n",
    "g.set_xticklabels(rotation = 90)\n",
    "g.fig.subplots_adjust(bottom = .3)\n",
    "g.fig.suptitle(\"Cumulative Ballot Returns\");"
   ]
  },
  {
   "cell_type": "markdown",
   "metadata": {},
   "source": [
    "`.relplot()` allows us to make `kind = \"line\"` and `kind = \"scatter\"` plots with more complex functionality (like faceting) in a single function call.\n",
    "\n",
    "#### Question 1\n",
    "\n",
    "Use `sns.relplot()` to create a scatter plot of bill length on bill depth with faceting based on species."
   ]
  },
  {
   "cell_type": "code",
   "execution_count": null,
   "metadata": {},
   "outputs": [],
   "source": [
    "# answer"
   ]
  },
  {
   "cell_type": "markdown",
   "metadata": {},
   "source": [
    "### Example 2: Cumulative ballot returns for all counties\n",
    "\n",
    "<img src=\"https://github.com/andrewpbray/python-for-r-users/blob/master/labs/figs/or-plot-2.png?raw=true\" width=\"300\"/>\n",
    "\n",
    "This is a (very busy) way to communicate the ballot return data from all counties in a single plot. Let's first build it using `matbplotlib`. We start by getting each of the county cumulative counts along their own column."
   ]
  },
  {
   "cell_type": "code",
   "execution_count": null,
   "metadata": {
    "scrolled": true
   },
   "outputs": [],
   "source": [
    "df3 = df2.pivot(index = \"Date\",\n",
    "                columns = \"County\", \n",
    "                values = \"Cumulative count\")\n",
    "df3"
   ]
  },
  {
   "cell_type": "markdown",
   "metadata": {},
   "source": [
    "To get all of those lines on to the same plot requires calling `.plot()` many times. This is best done in a for loop."
   ]
  },
  {
   "cell_type": "code",
   "execution_count": null,
   "metadata": {},
   "outputs": [],
   "source": [
    "fig, axes = plt.subplots(1, 1)\n",
    "\n",
    "num = 0\n",
    "for column in df3:\n",
    "    num += 1\n",
    "    plt.plot(df3.index, \n",
    "        df3[column], \n",
    "        marker = '', \n",
    "        color = \"gray\",\n",
    "        linewidth = 1,\n",
    "        alpha = 0.9, \n",
    "        label = column)\n"
   ]
  },
  {
   "cell_type": "markdown",
   "metadata": {},
   "source": [
    "#### Question 2\n",
    "\n",
    "Use `sns.relplot()` or `sns.lineplot()` to recreate this plot."
   ]
  },
  {
   "cell_type": "code",
   "execution_count": null,
   "metadata": {},
   "outputs": [],
   "source": [
    "# answer"
   ]
  },
  {
   "cell_type": "markdown",
   "metadata": {},
   "source": [
    "## Seaborn Overview\n",
    "\n",
    "<img src=\"https://github.com/andrewpbray/python-for-r-users/blob/master/lectures/figs/seaborn-overview.png?raw=true\" width=\"600\"/>"
   ]
  },
  {
   "cell_type": "markdown",
   "metadata": {},
   "source": [
    "As we said at the outset, the main advantage you get with `seaborn` is access to several high-level functions that save you from having to build-up plots \"by hand\" in `matplotlib`. In fact, each of these powerful plotting functions can alternatively be called from their even higher-level wrapper: `relplot()`, `displot()`, and `catplot()`."
   ]
  }
 ],
 "metadata": {
  "kernelspec": {
   "display_name": "Python 3",
   "language": "python",
   "name": "python3"
  },
  "language_info": {
   "codemirror_mode": {
    "name": "ipython",
    "version": 3
   },
   "file_extension": ".py",
   "mimetype": "text/x-python",
   "name": "python",
   "nbconvert_exporter": "python",
   "pygments_lexer": "ipython3",
   "version": "3.8.6"
  }
 },
 "nbformat": 4,
 "nbformat_minor": 4
}
